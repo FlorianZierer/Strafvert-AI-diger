{
  "nbformat": 4,
  "nbformat_minor": 0,
  "metadata": {
    "colab": {
      "provenance": []
    },
    "kernelspec": {
      "name": "python3",
      "display_name": "Python 3"
    },
    "language_info": {
      "name": "python"
    }
  },
  "cells": [
    {
      "cell_type": "markdown",
      "source": [
        "Felix Ipfling 2309666\n",
        "\n",
        "Florian Zierer 2150701"
      ],
      "metadata": {
        "id": "CLqha31dwhmQ"
      }
    },
    {
      "cell_type": "code",
      "execution_count": null,
      "metadata": {
        "id": "BGNCxfXawXR4"
      },
      "outputs": [],
      "source": []
    }
  ]
}